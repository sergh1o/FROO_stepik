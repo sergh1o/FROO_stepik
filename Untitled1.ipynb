{
 "cells": [
  {
   "cell_type": "code",
   "execution_count": 1,
   "metadata": {},
   "outputs": [],
   "source": [
    "abc = 'ABCDEFGHIJKLMNOPQRSTUVWXYZ'\n",
    "abc_list = list(abc)"
   ]
  },
  {
   "cell_type": "code",
   "execution_count": 6,
   "metadata": {},
   "outputs": [],
   "source": [
    "text = 'Ave, Caesar'"
   ]
  },
  {
   "cell_type": "code",
   "execution_count": 22,
   "metadata": {},
   "outputs": [],
   "source": [
    "def caesar(text, key, alphabet='ABCDEFGHIJKLMNOPQRSTUVWXYZ'):\n",
    "    abc_list = list(alphabet)\n",
    "    text = to_upper(text, abc_list)\n",
    "    answ = []\n",
    "    for char in text:\n",
    "        ind = (abc_list.index(char) + key) % len(alphabet)\n",
    "        answ.append(abc_list[ind])\n",
    "    return ''.join(answ)\n",
    "\n",
    "    "
   ]
  },
  {
   "cell_type": "code",
   "execution_count": 23,
   "metadata": {},
   "outputs": [],
   "source": [
    "def to_upper(text, abc_list):\n",
    "    answ = []\n",
    "    text = text.upper()\n",
    "    for char in text:\n",
    "        if char in abc_list:\n",
    "            answ.append(char)\n",
    "    return ''.join(answ)"
   ]
  },
  {
   "cell_type": "code",
   "execution_count": 24,
   "metadata": {},
   "outputs": [
    {
     "data": {
      "text/plain": [
       "'DYHFDHVDU'"
      ]
     },
     "execution_count": 24,
     "metadata": {},
     "output_type": "execute_result"
    }
   ],
   "source": [
    "caesar(text, 3)"
   ]
  },
  {
   "cell_type": "code",
   "execution_count": 20,
   "metadata": {},
   "outputs": [],
   "source": [
    "def bruteforce(text, alphabet = 'ABCDEFGHIJKLMNOPQRSTUVWXYZ'):\n",
    "    for key in range(len(alphabet)):\n",
    "        print(caesar(text, -1-key))"
   ]
  },
  {
   "cell_type": "code",
   "execution_count": 71,
   "metadata": {},
   "outputs": [],
   "source": [
    "def jarriquez_encryption(text, key, alphabet='ABCDEFGHIJKLMNOPQRSTUVWXYZ', reverse=False):\n",
    "    abc_list = list(alphabet)\n",
    "    text = to_upper(text, abc_list)\n",
    "    key_list = list(map(int, str(key)))\n",
    "    if not reverse:\n",
    "        rev = -1\n",
    "    else:\n",
    "        rev = 1\n",
    "    key = [key_list[i % len(key_list)] * -rev for i in range(len(text))]\n",
    "    answ = []\n",
    "    for k, c in zip(key, text):\n",
    "        ind = (abc_list.index(c) + k) % len(alphabet)\n",
    "        answ.append(abc_list[ind])\n",
    "    return ''.join(answ)"
   ]
  },
  {
   "cell_type": "code",
   "execution_count": 41,
   "metadata": {},
   "outputs": [
    {
     "name": "stdout",
     "output_type": "stream",
     "text": [
      "[0, 0, 0, 0, 0, 0, 0, 0, 0, 0]\n"
     ]
    }
   ],
   "source": [
    "text = 'DYHFDHVDLU'\n",
    "key = 423\n",
    "key_list = list(map(int, str(key)))\n",
    "rev = False\n",
    "key = [key_list[i % len(key_list)] * rev for i in range(len(text))]\n",
    "print(key)"
   ]
  },
  {
   "cell_type": "code",
   "execution_count": 46,
   "metadata": {},
   "outputs": [],
   "source": [
    "abvg = 'АБВГДЕЖЗИЙКЛМНОПРСТУФХЦЧШЩЪЫЬЭЮЯ'\n",
    "abc_list = list(abvg)"
   ]
  },
  {
   "cell_type": "code",
   "execution_count": 77,
   "metadata": {},
   "outputs": [],
   "source": [
    "enigma = 'ТЛБЛДУЭППТКЛФЧУВНУПБКЗИХТЛТТЫХНЛОИНУВЖММИНПФНПШОКЧЛЕРНТФНАХЖИДМЯКЛТУБЖИУЕЖЕАХЛГЩЕЕЪУВНГАХИЯШПЙАОЦЦПВТЛБФТТИИНДИДНЧЮОНЯОФВТЕАТФУШБЛРЮЮЧЖДРУУШГЕХУРПЧЕУВАЭУОЙБДБНОЛСКЦБСАОЦЦПВИШЮТППЦЧНЖОИНШВРЗЕЗКЗСБЮНЙРКПСЪЖФФШНЦЗРСЭШЦПЖСЙНГЭФФВЫМЖИЛРОЩСЗЮЙФШФДЖОИЗТРМООЙБНФГОЩЧФЖООКОФВЙСЭФЖУЬХИСЦЖГИЪЖДШПРМЖПУПГЦНВКБНРЕКИБШМЦХЙИАМФЛУЬЙИСЗРТЕС'\n",
    "cheat = 'АЛМАЗ'"
   ]
  },
  {
   "cell_type": "code",
   "execution_count": 78,
   "metadata": {},
   "outputs": [
    {
     "name": "stdout",
     "output_type": "stream",
     "text": [
      "А Т 18 []\n",
      "А Л 11 []\n",
      "М Д 24 [1, 0]\n",
      "А Л 11 []\n",
      "М Э 17 [4, 8]\n",
      "А У 19 []\n",
      "А Э 29 []\n",
      "А П 15 []\n",
      "А П 15 []\n",
      "А Т 18 []\n",
      "А К 10 []\n",
      "А Л 11 []\n",
      "А Ф 20 []\n",
      "А Ч 23 []\n",
      "А У 19 []\n",
      "А П 15 [2, 2, 7]\n",
      "А Н 13 []\n",
      "А У 19 []\n",
      "А П 15 []\n",
      "Л К 31 [1]\n",
      "А К 10 []\n",
      "Л И 29 [7]\n",
      "Л Х 10 [8]\n",
      "А Х 21 []\n",
      "А Т 18 []\n",
      "А Л 11 []\n",
      "А Т 18 []\n",
      "А Т 18 []\n",
      "А Ы 27 []\n",
      "А Х 21 []\n",
      "А Н 13 []\n",
      "А Л 11 []\n",
      "А О 14 []\n",
      "З Ж 31 [8, 2, 7, 2]\n",
      "А Н 13 []\n",
      "А У 19 []\n",
      "Л Ж 27 [2]\n"
     ]
    },
    {
     "ename": "IndexError",
     "evalue": "string index out of range",
     "output_type": "error",
     "traceback": [
      "\u001b[1;31m---------------------------------------------------------------------------\u001b[0m",
      "\u001b[1;31mIndexError\u001b[0m                                Traceback (most recent call last)",
      "\u001b[1;32m<ipython-input-78-f42461590510>\u001b[0m in \u001b[0;36m<module>\u001b[1;34m\u001b[0m\n\u001b[0;32m      4\u001b[0m     \u001b[0mkey\u001b[0m \u001b[1;33m=\u001b[0m \u001b[1;33m[\u001b[0m\u001b[1;33m]\u001b[0m\u001b[1;33m\u001b[0m\u001b[1;33m\u001b[0m\u001b[0m\n\u001b[0;32m      5\u001b[0m     \u001b[1;32mfor\u001b[0m \u001b[0midx\u001b[0m\u001b[1;33m,\u001b[0m \u001b[0mchar\u001b[0m \u001b[1;32min\u001b[0m \u001b[0menumerate\u001b[0m\u001b[1;33m(\u001b[0m\u001b[0mword\u001b[0m\u001b[1;33m)\u001b[0m\u001b[1;33m:\u001b[0m\u001b[1;33m\u001b[0m\u001b[1;33m\u001b[0m\u001b[0m\n\u001b[1;32m----> 6\u001b[1;33m         \u001b[0mk\u001b[0m \u001b[1;33m=\u001b[0m \u001b[1;33m(\u001b[0m\u001b[1;33m-\u001b[0m\u001b[0mabc_list\u001b[0m\u001b[1;33m.\u001b[0m\u001b[0mindex\u001b[0m\u001b[1;33m(\u001b[0m\u001b[0mcheat\u001b[0m\u001b[1;33m[\u001b[0m\u001b[0midx\u001b[0m\u001b[1;33m]\u001b[0m\u001b[1;33m)\u001b[0m \u001b[1;33m+\u001b[0m \u001b[0mabc_list\u001b[0m\u001b[1;33m.\u001b[0m\u001b[0mindex\u001b[0m\u001b[1;33m(\u001b[0m\u001b[0mchar\u001b[0m\u001b[1;33m)\u001b[0m\u001b[1;33m)\u001b[0m \u001b[1;33m%\u001b[0m \u001b[0mlen\u001b[0m\u001b[1;33m(\u001b[0m\u001b[0mabc_list\u001b[0m\u001b[1;33m)\u001b[0m\u001b[1;33m\u001b[0m\u001b[1;33m\u001b[0m\u001b[0m\n\u001b[0m\u001b[0;32m      7\u001b[0m \u001b[1;33m\u001b[0m\u001b[0m\n\u001b[0;32m      8\u001b[0m         \u001b[1;32mif\u001b[0m \u001b[0mk\u001b[0m \u001b[1;33m//\u001b[0m \u001b[1;36m10\u001b[0m \u001b[1;33m==\u001b[0m \u001b[1;36m0\u001b[0m\u001b[1;33m:\u001b[0m\u001b[1;33m\u001b[0m\u001b[1;33m\u001b[0m\u001b[0m\n",
      "\u001b[1;31mIndexError\u001b[0m: string index out of range"
     ]
    }
   ],
   "source": [
    "keys = []\n",
    "for i in range(len(enigma)-5):\n",
    "    word = enigma[i:i+6]\n",
    "    key = []\n",
    "    for idx, char in enumerate(word):\n",
    "        k = (-abc_list.index(cheat[idx]) + abc_list.index(char)) % len(abc_list)\n",
    "        \n",
    "        if k // 10 == 0:\n",
    "            key.append(k)\n",
    "        else:\n",
    "            print(cheat[idx], char, k, key)\n",
    "            key = []\n",
    "            break\n",
    "    if len(key) != 0:\n",
    "        keys.append(key)\n",
    "print(keys)"
   ]
  },
  {
   "cell_type": "code",
   "execution_count": 73,
   "metadata": {},
   "outputs": [
    {
     "data": {
      "text/plain": [
       "'РЕАЛЬНЫЙОТВЕТСТВЕННЫЙЗАПРЕСТУПЛЕНИЕНААЛМАЗНОМПРИИСКЕИЗРОМАНАЖЮЛЯВЕРНАЖАНГАДАНЕБУДЕТНАЗВАНВЭТОЙШИФРОВКЕЯОСТАВЛЮЗДЕСЬИМЯЖОАМДАКОСТАЛИШЬСЕДИНСТВЕННОЙЦЕЛЬЮЧТОБЫВЫМОГЛИРАСШИФРОВАТЬМОПОСЛАНИЕТАКЖЕЯДЕЛАЮЕГОДОСТАТОЧНОБОЛЬШОЙДЛИНЫЧТОБЫДАЖЕПОСЛЕШИФРОВАНИЯМОЖНОБЫЛОВОССТАНОВИТЬИСХОДНЫХАЛФАВИТАВТОРДАННОГОЗАДАНИЯИВАШДРУГЗАДОЙНЫЙАЛЕКСЕЙ'"
      ]
     },
     "execution_count": 73,
     "metadata": {},
     "output_type": "execute_result"
    }
   ],
   "source": [
    "jarriquez_encryption(enigma, 261086 , alphabet=abvg, reverse=True)"
   ]
  },
  {
   "cell_type": "code",
   "execution_count": null,
   "metadata": {},
   "outputs": [],
   "source": []
  }
 ],
 "metadata": {
  "kernelspec": {
   "display_name": "Python 3",
   "language": "python",
   "name": "python3"
  },
  "language_info": {
   "codemirror_mode": {
    "name": "ipython",
    "version": 3
   },
   "file_extension": ".py",
   "mimetype": "text/x-python",
   "name": "python",
   "nbconvert_exporter": "python",
   "pygments_lexer": "ipython3",
   "version": "3.7.6"
  }
 },
 "nbformat": 4,
 "nbformat_minor": 4
}

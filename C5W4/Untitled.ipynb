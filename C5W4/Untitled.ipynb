{
 "cells": [
  {
   "cell_type": "code",
   "execution_count": null,
   "metadata": {},
   "outputs": [],
   "source": [
    "import pandas as pd\n",
    "import numpy as np\n",
    "#Вероятно надо оставить только OrderedDict\n",
    "import collections"
   ]
  },
  {
   "cell_type": "code",
   "execution_count": null,
   "metadata": {},
   "outputs": [],
   "source": [
    "df = pd.read_csv('coursera_sessions_train.txt', sep=';', header=None, names=['views', 'buys'])\n",
    "df_test = pd.read_csv('coursera_sessions_test.txt', sep=';', header=None, names=['views', 'buys'])"
   ]
  },
  {
   "cell_type": "code",
   "execution_count": null,
   "metadata": {},
   "outputs": [],
   "source": [
    "df_test.tail()"
   ]
  },
  {
   "cell_type": "code",
   "execution_count": null,
   "metadata": {},
   "outputs": [],
   "source": [
    "df_list = df.apply(lambda x: x.str.split(','), axis=0)\n",
    "df_test_list = df_test.apply(lambda x: x.str.split(','), axis=0)"
   ]
  },
  {
   "cell_type": "code",
   "execution_count": null,
   "metadata": {},
   "outputs": [],
   "source": [
    "df_test_list"
   ]
  },
  {
   "cell_type": "code",
   "execution_count": null,
   "metadata": {},
   "outputs": [],
   "source": [
    "v = np.hstack(df_list.views.to_numpy()).astype(np.int)\n",
    "b = np.hstack(df_list.buys.dropna().to_numpy()).astype(np.int)"
   ]
  },
  {
   "cell_type": "code",
   "execution_count": null,
   "metadata": {},
   "outputs": [],
   "source": [
    "goods_dict = {}\n",
    "for good in v:\n",
    "    if good in goods_dict.keys():\n",
    "        goods_dict[good] +=1\n",
    "    else:\n",
    "        goods_dict[good] =1\n",
    "\n",
    "l = len(v) + 1\n",
    "\n",
    "for key in goods_dict.keys():\n",
    "    goods_dict[key] += (1 - np.where(v==key)[0][0]/l)\n",
    "\n",
    "ordered_dict_goods = collections.OrderedDict(sorted(goods_dict.items(), key=lambda x: x[1], reverse=True))\n",
    "ordered_dict_goods"
   ]
  },
  {
   "cell_type": "code",
   "execution_count": null,
   "metadata": {},
   "outputs": [],
   "source": [
    "buys_dict = {}\n",
    "for buy in b:\n",
    "    if buy in buys_dict.keys():\n",
    "        buys_dict[buy] +=1\n",
    "    else:\n",
    "        buys_dict[buy] =1\n",
    "\n",
    "l = len(b) + 1\n",
    "\n",
    "for key in buys_dict.keys():\n",
    "    buys_dict[key] += (1 - np.where(b==key)[0][0]/l)\n",
    "\n",
    "ordered_dict_buys = collections.OrderedDict(sorted(buys_dict.items(), key=lambda x: x[1], reverse=True))\n",
    "ordered_dict_buys"
   ]
  },
  {
   "cell_type": "code",
   "execution_count": null,
   "metadata": {},
   "outputs": [],
   "source": [
    "l = [1100, 73]\n",
    "recomended_goods = {}\n",
    "buy_goods = {}\n",
    "for i in l:\n",
    "    if i in ordered_dict_goods:\n",
    "        recomended_goods[i] = ordered_dict_goods[i]\n",
    "    if i in ordered_dict_buys:\n",
    "        buy_goods[i] = ordered_dict_buys[i]\n",
    "\n",
    "\n",
    "print(collections.OrderedDict(sorted(recomended_goods.items(), key=lambda x: x[1], reverse=True)))\n",
    "print(collections.OrderedDict(sorted(buy_goods.items(), key=lambda x: x[1], reverse=True)))"
   ]
  },
  {
   "cell_type": "code",
   "execution_count": null,
   "metadata": {},
   "outputs": [],
   "source": [
    "recomended_by_views = []\n",
    "for item in collections.OrderedDict(sorted(recomended_goods.items(), key=lambda x: x[1], reverse=True)):\n",
    "    if len(recomended_by_views) < 5:\n",
    "        recomended_by_views.append(item)\n",
    "    else:\n",
    "        break\n",
    "print(recomended_by_views)"
   ]
  },
  {
   "cell_type": "code",
   "execution_count": null,
   "metadata": {},
   "outputs": [],
   "source": [
    "recomended_by_buys = []\n",
    "for item in collections.OrderedDict(sorted(buy_goods.items(), key=lambda x: x[1], reverse=True)):\n",
    "    if len(recomended_by_buys) < 5:\n",
    "        recomended_by_buys.append(item)\n",
    "    else:\n",
    "        break\n",
    "print(recomended_by_buys)"
   ]
  },
  {
   "cell_type": "code",
   "execution_count": null,
   "metadata": {},
   "outputs": [],
   "source": []
  }
 ],
 "metadata": {
  "kernelspec": {
   "display_name": "Python 3",
   "language": "python",
   "name": "python3"
  },
  "language_info": {
   "codemirror_mode": {
    "name": "ipython",
    "version": 3
   },
   "file_extension": ".py",
   "mimetype": "text/x-python",
   "name": "python",
   "nbconvert_exporter": "python",
   "pygments_lexer": "ipython3",
   "version": "3.7.6"
  }
 },
 "nbformat": 4,
 "nbformat_minor": 4
}

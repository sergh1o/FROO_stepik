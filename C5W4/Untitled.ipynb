{
 "cells": [
  {
   "cell_type": "code",
   "execution_count": 1,
   "metadata": {},
   "outputs": [],
   "source": [
    "import pandas as pd\n",
    "import numpy as np\n",
    "#Вероятно надо оставить только OrderedDict\n",
    "from collections import OrderedDict"
   ]
  },
  {
   "cell_type": "code",
   "execution_count": 2,
   "metadata": {},
   "outputs": [],
   "source": [
    "df = pd.read_csv('coursera_sessions_train.txt', sep=';', header=None, names=['views', 'buys'])\n",
    "df_test = pd.read_csv('coursera_sessions_test.txt', sep=';', header=None, names=['views', 'buys'])"
   ]
  },
  {
   "cell_type": "code",
   "execution_count": 3,
   "metadata": {},
   "outputs": [
    {
     "data": {
      "text/html": [
       "<div>\n",
       "<style scoped>\n",
       "    .dataframe tbody tr th:only-of-type {\n",
       "        vertical-align: middle;\n",
       "    }\n",
       "\n",
       "    .dataframe tbody tr th {\n",
       "        vertical-align: top;\n",
       "    }\n",
       "\n",
       "    .dataframe thead th {\n",
       "        text-align: right;\n",
       "    }\n",
       "</style>\n",
       "<table border=\"1\" class=\"dataframe\">\n",
       "  <thead>\n",
       "    <tr style=\"text-align: right;\">\n",
       "      <th></th>\n",
       "      <th>views</th>\n",
       "      <th>buys</th>\n",
       "    </tr>\n",
       "  </thead>\n",
       "  <tbody>\n",
       "    <tr>\n",
       "      <td>49995</td>\n",
       "      <td>37637,18363,18131</td>\n",
       "      <td>NaN</td>\n",
       "    </tr>\n",
       "    <tr>\n",
       "      <td>49996</td>\n",
       "      <td>35402,10150,35402,10150,35402,88962,49526,3540...</td>\n",
       "      <td>NaN</td>\n",
       "    </tr>\n",
       "    <tr>\n",
       "      <td>49997</td>\n",
       "      <td>161,1345,161,1345,161,1345,161,30853,161</td>\n",
       "      <td>NaN</td>\n",
       "    </tr>\n",
       "    <tr>\n",
       "      <td>49998</td>\n",
       "      <td>26236,16572,26236</td>\n",
       "      <td>NaN</td>\n",
       "    </tr>\n",
       "    <tr>\n",
       "      <td>49999</td>\n",
       "      <td>80626,102807,102808,102809</td>\n",
       "      <td>NaN</td>\n",
       "    </tr>\n",
       "  </tbody>\n",
       "</table>\n",
       "</div>"
      ],
      "text/plain": [
       "                                                   views buys\n",
       "49995                                  37637,18363,18131  NaN\n",
       "49996  35402,10150,35402,10150,35402,88962,49526,3540...  NaN\n",
       "49997           161,1345,161,1345,161,1345,161,30853,161  NaN\n",
       "49998                                  26236,16572,26236  NaN\n",
       "49999                         80626,102807,102808,102809  NaN"
      ]
     },
     "execution_count": 3,
     "metadata": {},
     "output_type": "execute_result"
    }
   ],
   "source": [
    "df_test.tail()"
   ]
  },
  {
   "cell_type": "code",
   "execution_count": 4,
   "metadata": {},
   "outputs": [],
   "source": [
    "df_list = df.apply(lambda x: x.str.split(','), axis=0)\n",
    "df_test_list = df_test.apply(lambda x: x.str.split(','), axis=0)"
   ]
  },
  {
   "cell_type": "code",
   "execution_count": 5,
   "metadata": {},
   "outputs": [
    {
     "data": {
      "text/html": [
       "<div>\n",
       "<style scoped>\n",
       "    .dataframe tbody tr th:only-of-type {\n",
       "        vertical-align: middle;\n",
       "    }\n",
       "\n",
       "    .dataframe tbody tr th {\n",
       "        vertical-align: top;\n",
       "    }\n",
       "\n",
       "    .dataframe thead th {\n",
       "        text-align: right;\n",
       "    }\n",
       "</style>\n",
       "<table border=\"1\" class=\"dataframe\">\n",
       "  <thead>\n",
       "    <tr style=\"text-align: right;\">\n",
       "      <th></th>\n",
       "      <th>views</th>\n",
       "      <th>buys</th>\n",
       "    </tr>\n",
       "  </thead>\n",
       "  <tbody>\n",
       "    <tr>\n",
       "      <td>0</td>\n",
       "      <td>[6, 7, 8]</td>\n",
       "      <td>NaN</td>\n",
       "    </tr>\n",
       "    <tr>\n",
       "      <td>1</td>\n",
       "      <td>[13, 14, 15]</td>\n",
       "      <td>NaN</td>\n",
       "    </tr>\n",
       "    <tr>\n",
       "      <td>2</td>\n",
       "      <td>[22, 23]</td>\n",
       "      <td>NaN</td>\n",
       "    </tr>\n",
       "    <tr>\n",
       "      <td>3</td>\n",
       "      <td>[28, 29, 30, 31, 32, 33]</td>\n",
       "      <td>NaN</td>\n",
       "    </tr>\n",
       "    <tr>\n",
       "      <td>4</td>\n",
       "      <td>[40, 41]</td>\n",
       "      <td>NaN</td>\n",
       "    </tr>\n",
       "    <tr>\n",
       "      <td>...</td>\n",
       "      <td>...</td>\n",
       "      <td>...</td>\n",
       "    </tr>\n",
       "    <tr>\n",
       "      <td>49995</td>\n",
       "      <td>[37637, 18363, 18131]</td>\n",
       "      <td>NaN</td>\n",
       "    </tr>\n",
       "    <tr>\n",
       "      <td>49996</td>\n",
       "      <td>[35402, 10150, 35402, 10150, 35402, 88962, 495...</td>\n",
       "      <td>NaN</td>\n",
       "    </tr>\n",
       "    <tr>\n",
       "      <td>49997</td>\n",
       "      <td>[161, 1345, 161, 1345, 161, 1345, 161, 30853, ...</td>\n",
       "      <td>NaN</td>\n",
       "    </tr>\n",
       "    <tr>\n",
       "      <td>49998</td>\n",
       "      <td>[26236, 16572, 26236]</td>\n",
       "      <td>NaN</td>\n",
       "    </tr>\n",
       "    <tr>\n",
       "      <td>49999</td>\n",
       "      <td>[80626, 102807, 102808, 102809]</td>\n",
       "      <td>NaN</td>\n",
       "    </tr>\n",
       "  </tbody>\n",
       "</table>\n",
       "<p>50000 rows × 2 columns</p>\n",
       "</div>"
      ],
      "text/plain": [
       "                                                   views buys\n",
       "0                                              [6, 7, 8]  NaN\n",
       "1                                           [13, 14, 15]  NaN\n",
       "2                                               [22, 23]  NaN\n",
       "3                               [28, 29, 30, 31, 32, 33]  NaN\n",
       "4                                               [40, 41]  NaN\n",
       "...                                                  ...  ...\n",
       "49995                              [37637, 18363, 18131]  NaN\n",
       "49996  [35402, 10150, 35402, 10150, 35402, 88962, 495...  NaN\n",
       "49997  [161, 1345, 161, 1345, 161, 1345, 161, 30853, ...  NaN\n",
       "49998                              [26236, 16572, 26236]  NaN\n",
       "49999                    [80626, 102807, 102808, 102809]  NaN\n",
       "\n",
       "[50000 rows x 2 columns]"
      ]
     },
     "execution_count": 5,
     "metadata": {},
     "output_type": "execute_result"
    }
   ],
   "source": [
    "df_test_list"
   ]
  },
  {
   "cell_type": "code",
   "execution_count": 6,
   "metadata": {},
   "outputs": [],
   "source": [
    "v = np.hstack(df_list.views.to_numpy()).astype(np.int)\n",
    "b = np.hstack(df_list.buys.dropna().to_numpy()).astype(np.int)"
   ]
  },
  {
   "cell_type": "code",
   "execution_count": 9,
   "metadata": {},
   "outputs": [],
   "source": [
    "goods_dict = {}\n",
    "for good in v:\n",
    "    if good in goods_dict.keys():\n",
    "        goods_dict[good] +=1\n",
    "    else:\n",
    "        goods_dict[good] =1\n",
    "\n",
    "l = len(v) + 1\n",
    "\n",
    "for key in goods_dict.keys():\n",
    "    goods_dict[key] += (1 - np.where(v==key)[0][0]/l)\n",
    "\n",
    "ordered_dict_goods = OrderedDict(sorted(goods_dict.items(), key=lambda x: x[1], reverse=True))\n",
    "#ordered_dict_goods"
   ]
  },
  {
   "cell_type": "code",
   "execution_count": 10,
   "metadata": {},
   "outputs": [],
   "source": [
    "buys_dict = {}\n",
    "for buy in b:\n",
    "    if buy in buys_dict.keys():\n",
    "        buys_dict[buy] +=1\n",
    "    else:\n",
    "        buys_dict[buy] =1\n",
    "\n",
    "l = len(b) + 1\n",
    "\n",
    "for key in buys_dict.keys():\n",
    "    buys_dict[key] += (1 - np.where(b==key)[0][0]/l)\n",
    "\n",
    "ordered_dict_buys = OrderedDict(sorted(buys_dict.items(), key=lambda x: x[1], reverse=True))\n",
    "#ordered_dict_buys"
   ]
  },
  {
   "cell_type": "markdown",
   "metadata": {},
   "source": [
    "Надо это все в одну функцию объединить"
   ]
  },
  {
   "cell_type": "code",
   "execution_count": 109,
   "metadata": {},
   "outputs": [],
   "source": [
    "def get_recomndations(list_of_views, type_rec=0):\n",
    "    recomended_goods = {}\n",
    "    buy_goods = {}\n",
    "    for i in list_of_views:\n",
    "        if i in ordered_dict_goods:\n",
    "            recomended_goods[i] = ordered_dict_goods[i]\n",
    "        else:\n",
    "            recomended_goods[i] = 0\n",
    "        if i in ordered_dict_buys:\n",
    "            buy_goods[i] = ordered_dict_buys[i]\n",
    "        else:\n",
    "            buy_goods[i] = 0\n",
    "\n",
    "    #print(OrderedDict(sorted(recomended_goods.items(), key=lambda x: x[1], reverse=True)))\n",
    "    #print(OrderedDict(sorted(buy_goods.items(), key=lambda x: x[1], reverse=True)))\n",
    "    if type_rec == 0:\n",
    "        recomended_by_views = []\n",
    "        for item in OrderedDict(sorted(recomended_goods.items(), key=lambda x: x[1], reverse=True)):\n",
    "            if len(recomended_by_views) < 5:\n",
    "                recomended_by_views.append(item)\n",
    "            else:\n",
    "                break\n",
    "        return recomended_by_views\n",
    "    \n",
    "    recomended_by_buys = []\n",
    "    for item in OrderedDict(sorted(buy_goods.items(), key=lambda x: x[1], reverse=True)):\n",
    "        if len(recomended_by_buys) < 5:\n",
    "            recomended_by_buys.append(item)\n",
    "        else:\n",
    "            break\n",
    "    return recomended_by_buys"
   ]
  },
  {
   "cell_type": "code",
   "execution_count": 110,
   "metadata": {},
   "outputs": [],
   "source": [
    "df_list['recomend_view'] = df_list.views.apply(lambda x: get_recomndations(list(map(int, x)), type_rec=0))\n",
    "df_list['recomend_buy'] = df_list.views.apply(lambda x: get_recomndations(list(map(int, x)), type_rec=1))"
   ]
  },
  {
   "cell_type": "code",
   "execution_count": 111,
   "metadata": {},
   "outputs": [
    {
     "data": {
      "text/html": [
       "<div>\n",
       "<style scoped>\n",
       "    .dataframe tbody tr th:only-of-type {\n",
       "        vertical-align: middle;\n",
       "    }\n",
       "\n",
       "    .dataframe tbody tr th {\n",
       "        vertical-align: top;\n",
       "    }\n",
       "\n",
       "    .dataframe thead th {\n",
       "        text-align: right;\n",
       "    }\n",
       "</style>\n",
       "<table border=\"1\" class=\"dataframe\">\n",
       "  <thead>\n",
       "    <tr style=\"text-align: right;\">\n",
       "      <th></th>\n",
       "      <th>views</th>\n",
       "      <th>buys</th>\n",
       "      <th>recomend_view</th>\n",
       "      <th>recomend_buy</th>\n",
       "    </tr>\n",
       "  </thead>\n",
       "  <tbody>\n",
       "    <tr>\n",
       "      <td>7</td>\n",
       "      <td>[59, 60, 61, 62, 60, 63, 64, 65, 66, 61, 67, 6...</td>\n",
       "      <td>[67, 60, 63]</td>\n",
       "      <td>[63, 64, 60, 61, 65]</td>\n",
       "      <td>[67, 60, 63, 59, 61]</td>\n",
       "    </tr>\n",
       "    <tr>\n",
       "      <td>10</td>\n",
       "      <td>[84, 85, 86, 87, 88, 89, 84, 90, 91, 92, 93, 86]</td>\n",
       "      <td>[86]</td>\n",
       "      <td>[85, 93, 89, 90, 84]</td>\n",
       "      <td>[86, 85, 93, 84, 87]</td>\n",
       "    </tr>\n",
       "    <tr>\n",
       "      <td>19</td>\n",
       "      <td>[138, 198, 199, 127]</td>\n",
       "      <td>[199]</td>\n",
       "      <td>[127, 138, 198, 199]</td>\n",
       "      <td>[199, 138, 127, 198]</td>\n",
       "    </tr>\n",
       "    <tr>\n",
       "      <td>30</td>\n",
       "      <td>[303, 304, 305, 306, 307, 308, 309, 310, 311, ...</td>\n",
       "      <td>[303]</td>\n",
       "      <td>[303, 306, 304, 307, 309]</td>\n",
       "      <td>[303, 304, 305, 306, 307]</td>\n",
       "    </tr>\n",
       "    <tr>\n",
       "      <td>33</td>\n",
       "      <td>[352, 353, 352]</td>\n",
       "      <td>[352]</td>\n",
       "      <td>[352, 353]</td>\n",
       "      <td>[352, 353]</td>\n",
       "    </tr>\n",
       "    <tr>\n",
       "      <td>...</td>\n",
       "      <td>...</td>\n",
       "      <td>...</td>\n",
       "      <td>...</td>\n",
       "      <td>...</td>\n",
       "    </tr>\n",
       "    <tr>\n",
       "      <td>49943</td>\n",
       "      <td>[41795, 4337, 4335, 4337, 4335, 24087, 4335, 4...</td>\n",
       "      <td>[4335]</td>\n",
       "      <td>[4335, 4337, 24073, 41795, 57885]</td>\n",
       "      <td>[4335, 41795, 4337, 24087, 24073]</td>\n",
       "    </tr>\n",
       "    <tr>\n",
       "      <td>49964</td>\n",
       "      <td>[6366, 15269, 6366, 5895, 6366, 5895]</td>\n",
       "      <td>[5895]</td>\n",
       "      <td>[5895, 6366, 15269]</td>\n",
       "      <td>[5895, 6366, 15269]</td>\n",
       "    </tr>\n",
       "    <tr>\n",
       "      <td>49981</td>\n",
       "      <td>[64552, 25931, 2807]</td>\n",
       "      <td>[25935, 2807]</td>\n",
       "      <td>[2807, 25931, 64552]</td>\n",
       "      <td>[2807, 64552, 25931]</td>\n",
       "    </tr>\n",
       "    <tr>\n",
       "      <td>49991</td>\n",
       "      <td>[91921, 20251, 5063, 21742, 5063, 20251, 34927]</td>\n",
       "      <td>[91921]</td>\n",
       "      <td>[5063, 21742, 20251, 34927, 91921]</td>\n",
       "      <td>[91921, 5063, 20251, 21742, 34927]</td>\n",
       "    </tr>\n",
       "    <tr>\n",
       "      <td>49995</td>\n",
       "      <td>[32291, 60520, 32291, 38220]</td>\n",
       "      <td>[32291]</td>\n",
       "      <td>[32291, 38220, 60520]</td>\n",
       "      <td>[32291, 60520, 38220]</td>\n",
       "    </tr>\n",
       "  </tbody>\n",
       "</table>\n",
       "<p>3608 rows × 4 columns</p>\n",
       "</div>"
      ],
      "text/plain": [
       "                                                   views           buys  \\\n",
       "7      [59, 60, 61, 62, 60, 63, 64, 65, 66, 61, 67, 6...   [67, 60, 63]   \n",
       "10      [84, 85, 86, 87, 88, 89, 84, 90, 91, 92, 93, 86]           [86]   \n",
       "19                                  [138, 198, 199, 127]          [199]   \n",
       "30     [303, 304, 305, 306, 307, 308, 309, 310, 311, ...          [303]   \n",
       "33                                       [352, 353, 352]          [352]   \n",
       "...                                                  ...            ...   \n",
       "49943  [41795, 4337, 4335, 4337, 4335, 24087, 4335, 4...         [4335]   \n",
       "49964              [6366, 15269, 6366, 5895, 6366, 5895]         [5895]   \n",
       "49981                               [64552, 25931, 2807]  [25935, 2807]   \n",
       "49991    [91921, 20251, 5063, 21742, 5063, 20251, 34927]        [91921]   \n",
       "49995                       [32291, 60520, 32291, 38220]        [32291]   \n",
       "\n",
       "                            recomend_view                        recomend_buy  \n",
       "7                    [63, 64, 60, 61, 65]                [67, 60, 63, 59, 61]  \n",
       "10                   [85, 93, 89, 90, 84]                [86, 85, 93, 84, 87]  \n",
       "19                   [127, 138, 198, 199]                [199, 138, 127, 198]  \n",
       "30              [303, 306, 304, 307, 309]           [303, 304, 305, 306, 307]  \n",
       "33                             [352, 353]                          [352, 353]  \n",
       "...                                   ...                                 ...  \n",
       "49943   [4335, 4337, 24073, 41795, 57885]   [4335, 41795, 4337, 24087, 24073]  \n",
       "49964                 [5895, 6366, 15269]                 [5895, 6366, 15269]  \n",
       "49981                [2807, 25931, 64552]                [2807, 64552, 25931]  \n",
       "49991  [5063, 21742, 20251, 34927, 91921]  [91921, 5063, 20251, 21742, 34927]  \n",
       "49995               [32291, 38220, 60520]               [32291, 60520, 38220]  \n",
       "\n",
       "[3608 rows x 4 columns]"
      ]
     },
     "execution_count": 111,
     "metadata": {},
     "output_type": "execute_result"
    }
   ],
   "source": [
    "df_list.dropna()"
   ]
  },
  {
   "cell_type": "code",
   "execution_count": 112,
   "metadata": {},
   "outputs": [],
   "source": [
    "df_test_list['recomend_view'] = df_test_list.views.apply(lambda x: get_recomndations(list(map(int, x)), type_rec=0))\n",
    "df_test_list['recomend_buy'] = df_test_list.views.apply(lambda x: get_recomndations(list(map(int, x)), type_rec=1))"
   ]
  },
  {
   "cell_type": "code",
   "execution_count": 113,
   "metadata": {},
   "outputs": [
    {
     "data": {
      "text/html": [
       "<div>\n",
       "<style scoped>\n",
       "    .dataframe tbody tr th:only-of-type {\n",
       "        vertical-align: middle;\n",
       "    }\n",
       "\n",
       "    .dataframe tbody tr th {\n",
       "        vertical-align: top;\n",
       "    }\n",
       "\n",
       "    .dataframe thead th {\n",
       "        text-align: right;\n",
       "    }\n",
       "</style>\n",
       "<table border=\"1\" class=\"dataframe\">\n",
       "  <thead>\n",
       "    <tr style=\"text-align: right;\">\n",
       "      <th></th>\n",
       "      <th>views</th>\n",
       "      <th>buys</th>\n",
       "      <th>recomend_view</th>\n",
       "      <th>recomend_buy</th>\n",
       "    </tr>\n",
       "  </thead>\n",
       "  <tbody>\n",
       "    <tr>\n",
       "      <td>7</td>\n",
       "      <td>[63, 68, 69, 70, 66, 61, 59, 61, 66, 68]</td>\n",
       "      <td>[66, 63]</td>\n",
       "      <td>[63, 61, 66, 68, 59]</td>\n",
       "      <td>[63, 68, 69, 70, 66]</td>\n",
       "    </tr>\n",
       "    <tr>\n",
       "      <td>14</td>\n",
       "      <td>[158, 159, 160, 159, 161, 162]</td>\n",
       "      <td>[162]</td>\n",
       "      <td>[158, 162, 160, 159, 161]</td>\n",
       "      <td>[158, 162, 160, 159, 161]</td>\n",
       "    </tr>\n",
       "    <tr>\n",
       "      <td>19</td>\n",
       "      <td>[200, 201, 202, 203, 204]</td>\n",
       "      <td>[201, 205]</td>\n",
       "      <td>[204, 202, 203, 200, 201]</td>\n",
       "      <td>[204, 202, 200, 201, 203]</td>\n",
       "    </tr>\n",
       "    <tr>\n",
       "      <td>34</td>\n",
       "      <td>[371, 372, 371]</td>\n",
       "      <td>[371, 373]</td>\n",
       "      <td>[371, 372]</td>\n",
       "      <td>[371, 372]</td>\n",
       "    </tr>\n",
       "    <tr>\n",
       "      <td>40</td>\n",
       "      <td>[422]</td>\n",
       "      <td>[422]</td>\n",
       "      <td>[422]</td>\n",
       "      <td>[422]</td>\n",
       "    </tr>\n",
       "    <tr>\n",
       "      <td>...</td>\n",
       "      <td>...</td>\n",
       "      <td>...</td>\n",
       "      <td>...</td>\n",
       "      <td>...</td>\n",
       "    </tr>\n",
       "    <tr>\n",
       "      <td>49943</td>\n",
       "      <td>[2859, 2854, 88887, 96997, 4439, 28645, 99975,...</td>\n",
       "      <td>[24907, 102691, 18496, 4333]</td>\n",
       "      <td>[4335, 4333, 24907, 606, 2854]</td>\n",
       "      <td>[4335, 4333, 606, 2859, 2854]</td>\n",
       "    </tr>\n",
       "    <tr>\n",
       "      <td>49944</td>\n",
       "      <td>[77655, 23249, 1306, 47450, 26157, 58205, 4745...</td>\n",
       "      <td>[58205, 3111, 69482]</td>\n",
       "      <td>[1262, 16237, 7318, 1261, 1306]</td>\n",
       "      <td>[1262, 1306, 13520, 77655, 23249]</td>\n",
       "    </tr>\n",
       "    <tr>\n",
       "      <td>49945</td>\n",
       "      <td>[60538, 44430, 66252, 44430, 60538, 66251]</td>\n",
       "      <td>[66252, 44430]</td>\n",
       "      <td>[60538, 44430, 66251, 66252]</td>\n",
       "      <td>[60538, 44430, 66252, 66251]</td>\n",
       "    </tr>\n",
       "    <tr>\n",
       "      <td>49946</td>\n",
       "      <td>[49815, 76363]</td>\n",
       "      <td>[49815]</td>\n",
       "      <td>[49815, 76363]</td>\n",
       "      <td>[49815, 76363]</td>\n",
       "    </tr>\n",
       "    <tr>\n",
       "      <td>49985</td>\n",
       "      <td>[21841, 17711, 21841, 17711, 21841, 17711, 218...</td>\n",
       "      <td>[21841]</td>\n",
       "      <td>[17711, 21841, 22562]</td>\n",
       "      <td>[21841, 17711, 22562]</td>\n",
       "    </tr>\n",
       "  </tbody>\n",
       "</table>\n",
       "<p>3665 rows × 4 columns</p>\n",
       "</div>"
      ],
      "text/plain": [
       "                                                   views  \\\n",
       "7               [63, 68, 69, 70, 66, 61, 59, 61, 66, 68]   \n",
       "14                        [158, 159, 160, 159, 161, 162]   \n",
       "19                             [200, 201, 202, 203, 204]   \n",
       "34                                       [371, 372, 371]   \n",
       "40                                                 [422]   \n",
       "...                                                  ...   \n",
       "49943  [2859, 2854, 88887, 96997, 4439, 28645, 99975,...   \n",
       "49944  [77655, 23249, 1306, 47450, 26157, 58205, 4745...   \n",
       "49945         [60538, 44430, 66252, 44430, 60538, 66251]   \n",
       "49946                                     [49815, 76363]   \n",
       "49985  [21841, 17711, 21841, 17711, 21841, 17711, 218...   \n",
       "\n",
       "                               buys                    recomend_view  \\\n",
       "7                          [66, 63]             [63, 61, 66, 68, 59]   \n",
       "14                            [162]        [158, 162, 160, 159, 161]   \n",
       "19                       [201, 205]        [204, 202, 203, 200, 201]   \n",
       "34                       [371, 373]                       [371, 372]   \n",
       "40                            [422]                            [422]   \n",
       "...                             ...                              ...   \n",
       "49943  [24907, 102691, 18496, 4333]   [4335, 4333, 24907, 606, 2854]   \n",
       "49944          [58205, 3111, 69482]  [1262, 16237, 7318, 1261, 1306]   \n",
       "49945                [66252, 44430]     [60538, 44430, 66251, 66252]   \n",
       "49946                       [49815]                   [49815, 76363]   \n",
       "49985                       [21841]            [17711, 21841, 22562]   \n",
       "\n",
       "                            recomend_buy  \n",
       "7                   [63, 68, 69, 70, 66]  \n",
       "14             [158, 162, 160, 159, 161]  \n",
       "19             [204, 202, 200, 201, 203]  \n",
       "34                            [371, 372]  \n",
       "40                                 [422]  \n",
       "...                                  ...  \n",
       "49943      [4335, 4333, 606, 2859, 2854]  \n",
       "49944  [1262, 1306, 13520, 77655, 23249]  \n",
       "49945       [60538, 44430, 66252, 66251]  \n",
       "49946                     [49815, 76363]  \n",
       "49985              [21841, 17711, 22562]  \n",
       "\n",
       "[3665 rows x 4 columns]"
      ]
     },
     "execution_count": 113,
     "metadata": {},
     "output_type": "execute_result"
    }
   ],
   "source": [
    "df_test_list.dropna()"
   ]
  },
  {
   "cell_type": "code",
   "execution_count": 58,
   "metadata": {},
   "outputs": [],
   "source": [
    "def recall_k(recomendation, target, k):\n",
    "    if len(target) == 0: return np.NaN\n",
    "    recall = 0\n",
    "    for i in range(min(k, len(recomendation))):\n",
    "        if recomendation[i] in target: recall += 1\n",
    "    return recall / len(target)"
   ]
  },
  {
   "cell_type": "code",
   "execution_count": 88,
   "metadata": {},
   "outputs": [
    {
     "data": {
      "text/plain": [
       "1.0"
      ]
     },
     "execution_count": 88,
     "metadata": {},
     "output_type": "execute_result"
    }
   ],
   "source": [
    "r = ([158, 162, 160, 159, 161], [162], 5)\n",
    "recall_k(*r)"
   ]
  },
  {
   "cell_type": "code",
   "execution_count": 69,
   "metadata": {},
   "outputs": [],
   "source": [
    "def precision_k(recomendation, target, k):\n",
    "    if len(target) == 0: return np.NaN\n",
    "    precision = 0\n",
    "    for i in range(min(k, len(recomendation))):\n",
    "        if recomendation[i] in target: precision += 1\n",
    "    return precision / k"
   ]
  },
  {
   "cell_type": "code",
   "execution_count": 71,
   "metadata": {},
   "outputs": [
    {
     "data": {
      "text/plain": [
       "0.2"
      ]
     },
     "execution_count": 71,
     "metadata": {},
     "output_type": "execute_result"
    }
   ],
   "source": [
    "precision_k([4335, 4333], [24907, 102691, 18496, 4333, 201, 205], 5)"
   ]
  },
  {
   "cell_type": "code",
   "execution_count": 115,
   "metadata": {},
   "outputs": [
    {
     "name": "stdout",
     "output_type": "stream",
     "text": [
      "0.44 0.51 0.82 0.21\n"
     ]
    }
   ],
   "source": [
    "r5 = df_list.dropna().apply(lambda x: recall_k(list(map(int, x[2])), list(map(int, x[1])), 5), axis=1).mean()\n",
    "r1 = df_list.dropna().apply(lambda x: recall_k(list(map(int, x[2])), list(map(int, x[1])), 1), axis=1).mean()\n",
    "p5 = df_list.dropna().apply(lambda x: precision_k(list(map(int, x[2])), list(map(int, x[1])), 5), axis=1).mean()\n",
    "p1 = df_list.dropna().apply(lambda x: precision_k(list(map(int, x[2])), list(map(int, x[1])), 1), axis=1).mean()\n",
    "\n",
    "print(f'{r1:.2f} {p1:.2f} {r5:.2f} {p5:.2f}')"
   ]
  },
  {
   "cell_type": "code",
   "execution_count": 106,
   "metadata": {},
   "outputs": [
    {
     "name": "stdout",
     "output_type": "stream",
     "text": [
      "0.41 0.48 0.80 0.20\n"
     ]
    }
   ],
   "source": [
    "r5 = df_test_list.dropna().apply(lambda x: recall_k(list(map(int, x[2])), list(map(int, x[1])), 5), axis=1).mean()\n",
    "r1 = df_test_list.dropna().apply(lambda x: recall_k(list(map(int, x[2])), list(map(int, x[1])), 1), axis=1).mean()\n",
    "p5 = df_test_list.dropna().apply(lambda x: precision_k(list(map(int, x[2])), list(map(int, x[1])), 5), axis=1).mean()\n",
    "p1 = df_test_list.dropna().apply(lambda x: precision_k(list(map(int, x[2])), list(map(int, x[1])), 1), axis=1).mean()\n",
    "\n",
    "print(f'{r1:.2f} {p1:.2f} {r5:.2f} {p5:.2f}')"
   ]
  },
  {
   "cell_type": "code",
   "execution_count": 116,
   "metadata": {},
   "outputs": [
    {
     "name": "stdout",
     "output_type": "stream",
     "text": [
      "0.68 0.79 0.93 0.25\n"
     ]
    }
   ],
   "source": [
    "r5 = df_list.dropna().apply(lambda x: recall_k(list(map(int, x[3])), list(map(int, x[1])), 5), axis=1).mean()\n",
    "r1 = df_list.dropna().apply(lambda x: recall_k(list(map(int, x[3])), list(map(int, x[1])), 1), axis=1).mean()\n",
    "p5 = df_list.dropna().apply(lambda x: precision_k(list(map(int, x[3])), list(map(int, x[1])), 5), axis=1).mean()\n",
    "p1 = df_list.dropna().apply(lambda x: precision_k(list(map(int, x[3])), list(map(int, x[1])), 1), axis=1).mean()\n",
    "\n",
    "print(f'{r1:.2f} {p1:.2f} {r5:.2f} {p5:.2f}')"
   ]
  },
  {
   "cell_type": "code",
   "execution_count": 114,
   "metadata": {},
   "outputs": [
    {
     "name": "stdout",
     "output_type": "stream",
     "text": [
      "0.46 0.53 0.82 0.21\n"
     ]
    }
   ],
   "source": [
    "r5 = df_test_list.dropna().apply(lambda x: recall_k(list(map(int, x[3])), list(map(int, x[1])), 5), axis=1).mean()\n",
    "r1 = df_test_list.dropna().apply(lambda x: recall_k(list(map(int, x[3])), list(map(int, x[1])), 1), axis=1).mean()\n",
    "p5 = df_test_list.dropna().apply(lambda x: precision_k(list(map(int, x[3])), list(map(int, x[1])), 5), axis=1).mean()\n",
    "p1 = df_test_list.dropna().apply(lambda x: precision_k(list(map(int, x[3])), list(map(int, x[1])), 1), axis=1).mean()\n",
    "\n",
    "print(f'{r1:.2f} {p1:.2f} {r5:.2f} {p5:.2f}')"
   ]
  },
  {
   "cell_type": "code",
   "execution_count": 100,
   "metadata": {},
   "outputs": [
    {
     "data": {
      "text/plain": [
       "7        0.50\n",
       "14       1.00\n",
       "19       0.00\n",
       "34       0.00\n",
       "40       1.00\n",
       "         ... \n",
       "49943    0.25\n",
       "49944    0.00\n",
       "49945    0.00\n",
       "49946    0.00\n",
       "49985    1.00\n",
       "Length: 3665, dtype: float64"
      ]
     },
     "execution_count": 100,
     "metadata": {},
     "output_type": "execute_result"
    }
   ],
   "source": [
    "df_test_list.dropna().apply(lambda x: recall_k(list(map(int, x[3])), list(map(int, x[1])), 5), axis=1)"
   ]
  },
  {
   "cell_type": "code",
   "execution_count": null,
   "metadata": {},
   "outputs": [],
   "source": []
  }
 ],
 "metadata": {
  "kernelspec": {
   "display_name": "Python 3",
   "language": "python",
   "name": "python3"
  },
  "language_info": {
   "codemirror_mode": {
    "name": "ipython",
    "version": 3
   },
   "file_extension": ".py",
   "mimetype": "text/x-python",
   "name": "python",
   "nbconvert_exporter": "python",
   "pygments_lexer": "ipython3",
   "version": "3.7.4"
  }
 },
 "nbformat": 4,
 "nbformat_minor": 4
}
